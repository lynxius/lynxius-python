{
 "cells": [
  {
   "cell_type": "markdown",
   "metadata": {},
   "source": [
    "# Pizza Menu\n",
    "\n",
    "This notebook showcases the use of [Lynxius](https://www.lynxius.ai/) evaluators and was used to generate [Lynxius documentation](https://docs.lynxius.ai/)."
   ]
  },
  {
   "cell_type": "code",
   "execution_count": 1,
   "metadata": {},
   "outputs": [],
   "source": [
    "# First, we have to setup Lynxius API key\n",
    "import os\n",
    "import sys\n",
    "from getpass import getpass\n",
    "sys.path.append(\"../\")\n",
    "\n",
    "if not (lynxius_api_key := os.getenv(\"LYNXIUS_API_KEY\")):\n",
    "    lynxius_api_key = getpass(\"🔑 Enter your Lynxius API key: \")\n",
    "\n",
    "os.environ[\"LYNXIUS_API_KEY\"] = lynxius_api_key\n",
    "os.environ[\"LYNXIUS_BASE_URL\"] = \"https://platform.lynxius.ai\""
   ]
  },
  {
   "cell_type": "code",
   "execution_count": 2,
   "metadata": {},
   "outputs": [],
   "source": [
    "# Makes it easier to iterate\n",
    "%load_ext autoreload\n",
    "%autoreload 2"
   ]
  },
  {
   "cell_type": "markdown",
   "metadata": {},
   "source": [
    "# Running BERTScore"
   ]
  },
  {
   "cell_type": "code",
   "execution_count": 3,
   "metadata": {},
   "outputs": [
    {
     "data": {
      "text/plain": [
       "'974a8271-3a84-48f4-88fd-d01a3a27e609'"
      ]
     },
     "execution_count": 3,
     "metadata": {},
     "output_type": "execute_result"
    }
   ],
   "source": [
    "from lynxius.client import LynxiusClient\n",
    "from lynxius.evals.bert_score import BertScore\n",
    "\n",
    "client = LynxiusClient()\n",
    "\n",
    "# add tags for frontend filtering\n",
    "label = \"PR #111\"\n",
    "tags = [\"GPT-4\", \"chat_pizza\", \"summarization\", \"PROD\", \"Pizza-DB:v2\"]\n",
    "bert_score = BertScore(\n",
    "    label=label,\n",
    "    tags=tags,\n",
    "    level=\"word\",\n",
    "    presence_threshold=0.55\n",
    ")\n",
    "\n",
    "bert_score.add_trace(\n",
    "    # reference from Wikipedia (https://github.com/lynxius/lynxius-docs/blob/main/docs/public/images/san_marzano_wikipedia_reference.png)\n",
    "    reference=(\n",
    "        \"The tomato sauce of Neapolitan pizza must be made with San Marzano \"\n",
    "        \"tomatoes or pomodorini del Piennolo del Vesuvio.\"\n",
    "    ),\n",
    "    # output from OpenAI GPT-4 (https://github.com/lynxius/lynxius-docs/blob/main/docs/public/images/san_marzano_gpt4_output.png)\n",
    "    output=(\n",
    "        \"San Marzano tomatoes are traditionally used in Neapolitan pizza sauce.\"\n",
    "    )\n",
    ")\n",
    "\n",
    "client.evaluate(bert_score)"
   ]
  },
  {
   "cell_type": "markdown",
   "metadata": {},
   "source": [
    "# Running Answer Correctness"
   ]
  },
  {
   "cell_type": "code",
   "execution_count": 7,
   "metadata": {},
   "outputs": [
    {
     "data": {
      "text/plain": [
       "'8bd7188b-ea18-4f34-b089-05cb756b821c'"
      ]
     },
     "execution_count": 7,
     "metadata": {},
     "output_type": "execute_result"
    }
   ],
   "source": [
    "from lynxius.client import LynxiusClient\n",
    "from lynxius.evals.answer_correctness import AnswerCorrectness\n",
    "\n",
    "client = LynxiusClient()\n",
    "\n",
    "# add tags for frontend filtering\n",
    "label = \"PR #111\"\n",
    "tags = [\"GPT-4\", \"chat_pizza\", \"q_answering\", \"PROD\", \"Pizza-DB:v2\"]\n",
    "answer_correctness = AnswerCorrectness(label=label, tags=tags)\n",
    "\n",
    "answer_correctness.add_trace(\n",
    "    query=\"What is pizza quattro stagioni? Keep it short.\",\n",
    "    # reference from Wikipedia (https://github.com/lynxius/lynxius-docs/blob/main/docs/public/images/quattro_stagioni_wikipedia_reference.png)\n",
    "    reference=(\n",
    "        \"Pizza quattro stagioni ('four seasons pizza') is a variety of pizza \"\n",
    "        \"in Italian cuisine that is prepared in four sections with diverse \"\n",
    "        \"ingredients, with each section representing one season of the year. \"\n",
    "        \"Artichokes represent spring, tomatoes or basil represent summer, \"\n",
    "        \"mushrooms represent autumn and the ham, prosciutto or olives represent \"\n",
    "        \"winter.\"\n",
    "    ),\n",
    "    # output from OpenAI GPT-4 (https://github.com/lynxius/lynxius-docs/blob/main/docs/public/images/quattro_stagioni_gpt4_output.png)\n",
    "    output=(\n",
    "        \"Pizza Quattro Stagioni is an Italian pizza that represents the four \"\n",
    "        \"seasons through its toppings, divided into four sections. Each section \"\n",
    "        \"features ingredients typical of a particular season, like artichokes \"\n",
    "        \"for spring, peppers for summer, mushrooms for autumn, and olives or \"\n",
    "        \"prosciutto for winter.\"\n",
    "    )\n",
    ")\n",
    "\n",
    "client.evaluate(answer_correctness)"
   ]
  },
  {
   "cell_type": "markdown",
   "metadata": {},
   "source": [
    "# Running Semantic Similarity"
   ]
  },
  {
   "cell_type": "code",
   "execution_count": 5,
   "metadata": {},
   "outputs": [
    {
     "data": {
      "text/plain": [
       "'8a5662c3-4f18-40af-b337-8271df58565f'"
      ]
     },
     "execution_count": 5,
     "metadata": {},
     "output_type": "execute_result"
    }
   ],
   "source": [
    "from lynxius.client import LynxiusClient\n",
    "from lynxius.evals.semantic_similarity import SemanticSimilarity\n",
    "\n",
    "client = LynxiusClient()\n",
    "\n",
    "# add tags for frontend filtering\n",
    "label = \"PR #111\"\n",
    "tags = [\"GPT-4\", \"chat_pizza\", \"info_retrieval\", \"PROD\", \"Pizza-DB:v2\"]\n",
    "semantic_similarity = SemanticSimilarity(label=label, tags=tags)\n",
    "\n",
    "semantic_similarity.add_trace(\n",
    "    # reference from Wikipedia (https://github.com/lynxius/lynxius-docs/blob/main/docs/public/images/quattro_stagioni_wikipedia_reference.png)\n",
    "    reference=(\n",
    "        \"Pizza quattro stagioni ('four seasons pizza') is a variety of pizza \"\n",
    "        \"in Italian cuisine that is prepared in four sections with diverse \"\n",
    "        \"ingredients, with each section representing one season of the year. \"\n",
    "        \"Artichokes represent spring, tomatoes or basil represent summer, \"\n",
    "        \"mushrooms represent autumn and the ham, prosciutto or olives represent \"\n",
    "        \"winter.\"\n",
    "    ),\n",
    "    # output from OpenAI GPT-4 (https://github.com/lynxius/lynxius-docs/blob/main/docs/public/images/quattro_stagioni_gpt4_output.png)\n",
    "    output=(\n",
    "        \"Pizza Quattro Stagioni is an Italian pizza that represents the four \"\n",
    "        \"seasons through its toppings, divided into four sections. Each section \"\n",
    "        \"features ingredients typical of a particular season, like artichokes \"\n",
    "        \"for spring, peppers for summer, mushrooms for autumn, and olives or \"\n",
    "        \"prosciutto for winter.\"\n",
    "    )\n",
    ")\n",
    "\n",
    "client.evaluate(semantic_similarity)"
   ]
  },
  {
   "cell_type": "markdown",
   "metadata": {},
   "source": [
    "# Running Context Precision"
   ]
  },
  {
   "cell_type": "code",
   "execution_count": 6,
   "metadata": {},
   "outputs": [],
   "source": [
    "# %pip install llama-index-llms-openai\n",
    "# %pip install matplotlib"
   ]
  },
  {
   "cell_type": "code",
   "execution_count": 7,
   "metadata": {},
   "outputs": [
    {
     "data": {
      "text/markdown": [
       "**Node ID:** aecea8f0-0395-4e45-be25-82fe90f7127d<br>**Similarity:** 0.8461458079746771<br>**Text:** Pizza marinara, also known as pizza alla marinara, is a style of pizza in Neapolitan cuisine seasoned with only tomato sauce, extra virgin olive oil, oregano and garlic. It is supposedly the oldest tomato-topped pizza.<br>"
      ],
      "text/plain": [
       "<IPython.core.display.Markdown object>"
      ]
     },
     "metadata": {},
     "output_type": "display_data"
    },
    {
     "data": {
      "text/markdown": [
       "**Node ID:** 339eb18c-5c2b-472b-bc24-a163db2d16bc<br>**Similarity:** 0.8450720279096852<br>**Text:** Neapolitan pizza (Italian: pizza napoletana; Neapolitan: pizza napulitana), also known as Naples-style pizza, is a style of pizza made with tomatoes and mozzarella cheese. The tomatoes must be either San Marzano tomatoes or pomodorini del Piennolo del Vesuvio, which grow on the volcani...<br>"
      ],
      "text/plain": [
       "<IPython.core.display.Markdown object>"
      ]
     },
     "metadata": {},
     "output_type": "display_data"
    },
    {
     "data": {
      "text/markdown": [
       "**Node ID:** f4ff4dba-90e0-4842-a34d-01f9c211f673<br>**Similarity:** 0.7993399980232716<br>**Text:** Pizza quattro stagioni ('four seasons pizza') is a variety of pizza in Italian cuisine that is prepared in four sections with diverse ingredients, with each section representing one season of the year. Artichokes represent spring, tomatoes or basil represent summer, mushrooms represent...<br>"
      ],
      "text/plain": [
       "<IPython.core.display.Markdown object>"
      ]
     },
     "metadata": {},
     "output_type": "display_data"
    },
    {
     "data": {
      "text/markdown": [
       "**Node ID:** b90b60da-9292-4318-bd70-7bbe1aac432a<br>**Similarity:** 0.7988321996271018<br>**Text:** The first pizzeria in the U.S. was opened in New York City's Little Italy in 1905. Common toppings for pizza in the United States include anchovies, ground beef, chicken, ham, mushrooms, olives, onions, peppers, pepperoni, salami, sausage, spinach, steak, and tomatoes.<br>"
      ],
      "text/plain": [
       "<IPython.core.display.Markdown object>"
      ]
     },
     "metadata": {},
     "output_type": "display_data"
    }
   ],
   "source": [
    "# import os\n",
    "import pandas as pd\n",
    "from llama_index.core import VectorStoreIndex, Document\n",
    "from llama_index.core.response.notebook_utils import display_source_node\n",
    "\n",
    "os.environ[\"OPENAI_API_KEY\"] = \"YOUR-OPENAI-KEY\"\n",
    "\n",
    "# Read the CSV file into a DataFrame\n",
    "csv_file_path = \"data/pizza_wikipedia.csv\"  # adjust the path as needed\n",
    "df = pd.read_csv(csv_file_path)\n",
    "\n",
    "# Convert the DataFrame into a list of Documents\n",
    "documents = [Document(text=row[\"text\"]) for _, row in df.iterrows()]\n",
    "\n",
    "# Create the index from the documents\n",
    "index = VectorStoreIndex.from_documents(documents)\n",
    "\n",
    "# Retrieve nodes\n",
    "retriever = index.as_retriever(similarity_top_k=4)\n",
    "retrieved_nodes = retriever.retrieve(\"Which tomato sauce is used in neapolitan pizza? Keep it short.\")\n",
    "\n",
    "for node in retrieved_nodes:\n",
    "    display_source_node(node, source_length=289)"
   ]
  },
  {
   "cell_type": "code",
   "execution_count": 8,
   "metadata": {},
   "outputs": [
    {
     "data": {
      "text/plain": [
       "'0b32b4f7-ace8-4c99-a2e4-e4e3e2e8b2ae'"
      ]
     },
     "execution_count": 8,
     "metadata": {},
     "output_type": "execute_result"
    }
   ],
   "source": [
    "from lynxius.client import LynxiusClient\n",
    "from lynxius.evals.context_precision import ContextPrecision\n",
    "\n",
    "from lynxius.rag.types import ContextChunk\n",
    "\n",
    "# We used LlamaIndex to rank our Wikipedia texts based on the `query` below\n",
    "# reference from Wikipedia (https://github.com/lynxius/lynxius-docs/blob/main/docs/public/images/llamaindex_pizza_top4_rank.png)\n",
    "context = [\n",
    "    ContextChunk(\n",
    "        document=\"Pizza marinara, also known as pizza alla marinara, is a style of pizza in Neapolitan cuisine seasoned with only tomato sauce, extra virgin olive oil, oregano and garlic. It is supposedly the oldest tomato-topped pizza.\",\n",
    "        relevance=0.8461458079746771\n",
    "    ),\n",
    "    ContextChunk(\n",
    "        document=\"Neapolitan pizza (Italian: pizza napoletana; Neapolitan: pizza napulitana), also known as Naples-style pizza, is a style of pizza made with tomatoes and mozzarella cheese. The tomatoes must be either San Marzano tomatoes or pomodorini del Piennolo del Vesuvio, which grow on the volcanic plains to the south of Mount Vesuvius.\",\n",
    "        relevance=0.8450720279096852\n",
    "    ),\n",
    "    ContextChunk(\n",
    "        document=\"Pizza quattro stagioni ('four seasons pizza') is a variety of pizza in Italian cuisine that is prepared in four sections with diverse ingredients, with each section representing one season of the year. Artichokes represent spring, tomatoes or basil represent summer, mushrooms represent autumn and the ham, prosciutto or olives represent winter.\",\n",
    "        relevance=0.7993399980232716\n",
    "    ),\n",
    "    ContextChunk(\n",
    "        document=\"The first pizzeria in the U.S. was opened in New York City's Little Italy in 1905. Common toppings for pizza in the United States include anchovies, ground beef, chicken, ham, mushrooms, olives, onions, peppers, pepperoni, salami, sausage, spinach, steak, and tomatoes.\",\n",
    "        relevance=0.7988321996271018\n",
    "    )\n",
    "]\n",
    "\n",
    "client = LynxiusClient()\n",
    "\n",
    "# add tags for frontend filtering\n",
    "label = \"PR #111\"\n",
    "tags = [\"GPT-4\", \"chat_pizza\", \"info_retrieval\", \"PROD\", \"Pizza-DB:v2\"]\n",
    "context_precision = ContextPrecision(label=label, tags=tags)\n",
    "\n",
    "context_precision.add_trace(\n",
    "    query=\"Which tomato sauce is used in neapolitan pizza? Keep it short.\",\n",
    "    # reference from Wikipedia (https://github.com/lynxius/lynxius-docs/blob/main/docs/public/images/san_marzano_wikipedia_reference.png)\n",
    "    reference=(\n",
    "        \"The tomato sauce of Neapolitan pizza must be made with San Marzano \"\n",
    "        \"tomatoes or pomodorini del Piennolo del Vesuvio.\"\n",
    "    ),\n",
    "    context=context\n",
    ")\n",
    "\n",
    "client.evaluate(context_precision)"
   ]
  },
  {
   "cell_type": "markdown",
   "metadata": {},
   "source": [
    "# Running Custom Evaluator"
   ]
  },
  {
   "cell_type": "code",
   "execution_count": 2,
   "metadata": {},
   "outputs": [],
   "source": [
    "# When using CustomEval make sure that the final verdict is printed at the very\n",
    "# bottom of the resonse, with no other characters\n",
    "IS_SPICY_PIZZA=\"\"\"\n",
    "You need to evaluate if a pizza description matches a given spiciness level \n",
    "and vegetarian indication. If both match, the verdict is 'correct'; otherwise, \n",
    "it's 'incorrect'. Provide a very short explanation about how you arrived to \n",
    "your verdict. The verdict must be printed at the very bottom of your response, \n",
    "on a new line, and it must not contain any extra characters.\n",
    "Here is the data:\n",
    "***********\n",
    "Candidate answer: {output}\n",
    "***********\n",
    "Spiciness level: {spicy}\n",
    "***********\n",
    "Vegetarian indication: {vegetarian}\n",
    "\"\"\""
   ]
  },
  {
   "cell_type": "code",
   "execution_count": 3,
   "metadata": {},
   "outputs": [
    {
     "data": {
      "text/plain": [
       "'193d12fa-4a13-49b7-8c72-b51509fd4246'"
      ]
     },
     "execution_count": 3,
     "metadata": {},
     "output_type": "execute_result"
    }
   ],
   "source": [
    "from lynxius.client import LynxiusClient\n",
    "from lynxius.evals.custom_eval import CustomEval\n",
    "\n",
    "client = LynxiusClient()\n",
    "\n",
    "# add tags for frontend filtering\n",
    "label = \"PR #111\"\n",
    "tags = [\"GPT-4\", \"chat_pizza\", \"spiciness\", \"PROD\", \"Pizza-DB:v2\"]\n",
    "custom_eval = CustomEval(label=label, tags=tags, prompt_template=IS_SPICY_PIZZA)\n",
    "\n",
    "custom_eval.add_trace(\n",
    "    # output from OpenAI GPT-4 (https://github.com/lynxius/lynxius-docs/blob/main/docs/public/images/hawaiian_pizza_gpt4_output.png)\n",
    "    values={\n",
    "        \"output\": \"Hawaiian pizza: tomato sauce, pineapple and ham.\",\n",
    "        \"spicy\": \"Not spicy\",\n",
    "        \"vegetarian\": \"NO\"\n",
    "    }\n",
    ")\n",
    "\n",
    "client.evaluate(custom_eval)"
   ]
  },
  {
   "cell_type": "markdown",
   "metadata": {},
   "source": [
    "# Running JSON Diff"
   ]
  },
  {
   "cell_type": "code",
   "execution_count": 2,
   "metadata": {},
   "outputs": [
    {
     "data": {
      "text/plain": [
       "'9895b04e-0e07-4eab-bcea-30d425400eac'"
      ]
     },
     "execution_count": 2,
     "metadata": {},
     "output_type": "execute_result"
    }
   ],
   "source": [
    "from lynxius.client import LynxiusClient\n",
    "from lynxius.evals.json_diff import JsonDiff\n",
    "\n",
    "client = LynxiusClient()\n",
    "\n",
    "# add tags for frontend filtering\n",
    "label = \"PR #111\"\n",
    "tags = [\"GPT-4\", \"chat_pizza\", \"payload_generation\", \"PROD\", \"Pizza-DB:v2\"]\n",
    "json_diff = JsonDiff(label=label, tags=tags)\n",
    "\n",
    "json_diff.add_trace(\n",
    "    # reference from 'NAPIZZA SF (https://github.com/lynxius/lynxius-docs/blob/main/docs/public/images/napizza_san_francisco_menu.png)\n",
    "    reference={\n",
    "        \"margherita\": 19.0,\n",
    "        \"pepperoni\": 21.0,\n",
    "        \"beer\": 6.0,\n",
    "        \"fixed_menus\": [\n",
    "            {\n",
    "                \"menu_name\": \"baby\",\n",
    "                \"pizza\": \"margerita\",\n",
    "                \"drink\": \"Coca-Cola\",\n",
    "                \"price\": 24.0,\n",
    "            },\n",
    "            {\n",
    "                \"menu_name\": \"adult\",\n",
    "                \"pizza\": \"pepperoni\",\n",
    "                \"drink\": \"beer\",\n",
    "                \"price\": 27.0,\n",
    "            }\n",
    "        ]\n",
    "    },\n",
    "    # output from PizzaMenu LLM App\n",
    "    output={\n",
    "        \"margherita\": 39.0,\n",
    "        \"pepperoni\": 21.0,\n",
    "        \"beer\": 6.0,\n",
    "        \"fixed_menus\": [\n",
    "            {\n",
    "                \"menu_name\": \"baby\",\n",
    "                \"pizza\": \"margerita\",\n",
    "                \"drink\": \"Coca-Cola\",\n",
    "                \"price\": 24.0,\n",
    "            },\n",
    "            {\n",
    "                \"menu_name\": \"adult\",\n",
    "                \"pizza\": \"peppers\",\n",
    "                \"drink\": \"beer\",\n",
    "                \"price\": 27.0,\n",
    "            }\n",
    "        ]\n",
    "    },\n",
    "    weights={\n",
    "        \"margherita\": 1.0,  # getting the pizza wrong is bad!\n",
    "        \"pepperoni\": 1.0,   # getting the pizza wrong is bad!\n",
    "        \"beer\": 0.25,       # getting the beer wrong is ok\n",
    "        \"fixed_menus\": {    # getting the menu wrong is bad! (0.3 + 0.2 + 0.5)\n",
    "            \"menu_name\": 0.0,\n",
    "            \"pizza\": 0.3,\n",
    "            \"drink\": 0.2,\n",
    "            \"price\": 0.5,     # price is the most important thing in the menu\n",
    "        }\n",
    "    }\n",
    ")\n",
    "\n",
    "client.evaluate(json_diff)"
   ]
  }
 ],
 "metadata": {
  "kernelspec": {
   "display_name": ".lynxius-python",
   "language": "python",
   "name": "python3"
  },
  "language_info": {
   "codemirror_mode": {
    "name": "ipython",
    "version": 3
   },
   "file_extension": ".py",
   "mimetype": "text/x-python",
   "name": "python",
   "nbconvert_exporter": "python",
   "pygments_lexer": "ipython3",
   "version": "3.12.4"
  }
 },
 "nbformat": 4,
 "nbformat_minor": 2
}
