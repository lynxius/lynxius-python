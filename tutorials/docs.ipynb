{
 "cells": [
  {
   "cell_type": "code",
   "execution_count": 3,
   "metadata": {},
   "outputs": [],
   "source": [
    "# First, we have to setup Lynxius API key\n",
    "import os\n",
    "import sys\n",
    "from getpass import getpass\n",
    "sys.path.append(\"../\")\n",
    "\n",
    "if not (lynxius_api_key := os.getenv(\"LYNXIUS_API_KEY\")):\n",
    "    lynxius_api_key = getpass(\"🔑 Enter your Lynxius API key: \")\n",
    "\n",
    "os.environ[\"LYNXIUS_API_KEY\"] = lynxius_api_key\n",
    "os.environ[\"LYNXIUS_BASE_URL\"] = \"http://localhost:8000\""
   ]
  },
  {
   "cell_type": "code",
   "execution_count": 4,
   "metadata": {},
   "outputs": [
    {
     "data": {
      "text/plain": [
       "'cd3ab7f5-1c2e-4594-9d79-d15dc0e7964e'"
      ]
     },
     "execution_count": 4,
     "metadata": {},
     "output_type": "execute_result"
    }
   ],
   "source": [
    "from lynxius.client import LynxiusClient\n",
    "from lynxius.evals.answer_correctness import AnswerCorrectness\n",
    "\n",
    "answer_correctness = AnswerCorrectness(\"MY-LABEL-1 | MY-LABEL-2 | MY-LABEL-3\")\n",
    "\n",
    "client = LynxiusClient()\n",
    "\n",
    "answer_correctness.add_trace(\n",
    "    query=\"What is pizza quattro stagioni? Keep it short.\",\n",
    "    reference=(\n",
    "        \"Pizza quattro stagioni ('four seasons pizza') is a variety of pizza \"\n",
    "        \"in Italian cuisine that is prepared in four sections with diverse \"\n",
    "        \"ingredients, with each section representing one season of the year. \"\n",
    "        \"Artichokes represent spring, tomatoes or basil represent summer, \"\n",
    "        \"mushrooms represent autumn and the ham, prosciutto or olives represent \"\n",
    "        \"winter.\"\n",
    "        ),\n",
    "    output=(\n",
    "        \"Pizza Quattro Stagioni is an Italian pizza that represents the four \"\n",
    "        \"seasons through its toppings, divided into four sections. Each section \"\n",
    "        \"features ingredients typical of a particular season, like artichokes \"\n",
    "        \"for spring, peppers for summer, mushrooms for autumn, and olives or \"\n",
    "        \"prosciutto for winter.\"\n",
    "        )\n",
    ")\n",
    "\n",
    "client.evaluate(answer_correctness)"
   ]
  },
  {
   "cell_type": "code",
   "execution_count": null,
   "metadata": {},
   "outputs": [],
   "source": []
  }
 ],
 "metadata": {
  "kernelspec": {
   "display_name": ".lynxius-python",
   "language": "python",
   "name": "python3"
  },
  "language_info": {
   "codemirror_mode": {
    "name": "ipython",
    "version": 3
   },
   "file_extension": ".py",
   "mimetype": "text/x-python",
   "name": "python",
   "nbconvert_exporter": "python",
   "pygments_lexer": "ipython3",
   "version": "3.12.3"
  }
 },
 "nbformat": 4,
 "nbformat_minor": 2
}
