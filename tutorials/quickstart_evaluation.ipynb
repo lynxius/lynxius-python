{
 "cells": [
  {
   "cell_type": "markdown",
   "metadata": {},
   "source": [
    "# Quickstart Evaluation"
   ]
  },
  {
   "cell_type": "code",
   "execution_count": 1,
   "metadata": {},
   "outputs": [],
   "source": [
    "# First, we have to setup Lynxius API key\n",
    "import os\n",
    "import sys\n",
    "from getpass import getpass\n",
    "sys.path.append(\"../\")\n",
    "\n",
    "if not (lynxius_api_key := os.getenv(\"LYNXIUS_API_KEY\")):\n",
    "    lynxius_api_key = getpass(\"🔑 Enter your Lynxius API key: \")\n",
    "\n",
    "os.environ[\"LYNXIUS_API_KEY\"] = lynxius_api_key\n",
    "os.environ[\"LYNXIUS_BASE_URL\"] = \"https://platform.lynxius.ai\""
   ]
  },
  {
   "cell_type": "markdown",
   "metadata": {},
   "source": [
    "## Prepare the Dataset\n"
   ]
  },
  {
   "cell_type": "code",
   "execution_count": 2,
   "metadata": {},
   "outputs": [],
   "source": [
    "# `chat_pizza` LLM App used OpenAI GPT-4 to produce these outputs (https://github.com/lynxius/lynxius-docs/blob/main/docs/public/images/)\n",
    "dataset = [\n",
    "    {\n",
    "        \"query\": \"What is the first tomato-topped pizza? Keep it short.\",\n",
    "        \"reference\": \"Pizza marinara is supposedly the oldest tomato-topped pizza.\",\n",
    "        \"output\": \"The first tomato-topped pizza is the Margherita, created in 1889 in Naples, Italy.\",\n",
    "    },\n",
    "    {\n",
    "        \"query\": \"When did pizza arrive in the United States? Keep it short.\",\n",
    "        \"reference\": \"The first pizzeria in the U.S. was opened in New York City's Little Italy in 1905.\",\n",
    "        \"output\": \"Pizza arrived in the United States in late 19th century, brought by Italian immigrants.\",\n",
    "    },\n",
    "    {\n",
    "        \"query\": \"Which tomato sauce is used in neapolitan pizza? Keep it short.\",\n",
    "        \"reference\": \"The tomato sauce of Neapolitan pizza must be made with San Marzano tomatoes or pomodorini del Piennolo del Vesuvio.\",\n",
    "        \"output\": \"San Marzano tomatoes are traditionally used in Neapolitan pizza sauce.\",\n",
    "    }\n",
    "]"
   ]
  },
  {
   "cell_type": "code",
   "execution_count": 3,
   "metadata": {},
   "outputs": [
    {
     "data": {
      "text/plain": [
       "'1858043e-ce72-43fd-b66b-d17c0296220a'"
      ]
     },
     "execution_count": 3,
     "metadata": {},
     "output_type": "execute_result"
    }
   ],
   "source": [
    "from lynxius.client import LynxiusClient\n",
    "from lynxius.evals.answer_correctness import AnswerCorrectness\n",
    "from lynxius.evals.semantic_similarity import SemanticSimilarity\n",
    "\n",
    "client = LynxiusClient()\n",
    "\n",
    "# add tags for frontend filtering\n",
    "label = \"PR #111\"\n",
    "tags = [\"GPT-4\", \"chat_pizza\", \"q_answering\", \"PROD\", \"Pizza-DB:v2\"]\n",
    "answer_correctness = AnswerCorrectness(label=label, tags=tags)\n",
    "semantic_similarity = SemanticSimilarity(label=label, tags=tags)\n",
    "\n",
    "\n",
    "for entry in dataset:\n",
    "    answer_correctness.add_trace(query=entry[\"query\"], reference=entry[\"reference\"], output=entry[\"output\"], context=[])\n",
    "    semantic_similarity.add_trace(reference=entry[\"reference\"], output=entry[\"output\"], context=[])\n",
    "\n",
    "# Run!\n",
    "client.evaluate(answer_correctness)\n",
    "client.evaluate(semantic_similarity)"
   ]
  }
 ],
 "metadata": {
  "kernelspec": {
   "display_name": ".lynxius-python",
   "language": "python",
   "name": "python3"
  },
  "language_info": {
   "codemirror_mode": {
    "name": "ipython",
    "version": 3
   },
   "file_extension": ".py",
   "mimetype": "text/x-python",
   "name": "python",
   "nbconvert_exporter": "python",
   "pygments_lexer": "ipython3",
   "version": "3.12.2"
  }
 },
 "nbformat": 4,
 "nbformat_minor": 2
}
