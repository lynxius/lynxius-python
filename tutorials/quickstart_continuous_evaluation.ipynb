{
 "cells": [
  {
   "cell_type": "markdown",
   "metadata": {},
   "source": [
    "# Quickstart Continuous Evaluation\n",
    "\n",
    "Set up your LLM App Baselines and automated testing pipeline in just three minutes! Ship AI with confidence at every development stage by following this quickstart guide.\n",
    "\n",
    "[Signup for free](https://platform.lynxius.ai/auth/signup) here to create an account. Don't forget to validate your email!"
   ]
  },
  {
   "cell_type": "code",
   "execution_count": 1,
   "metadata": {},
   "outputs": [],
   "source": [
    "# First, we have to setup Lynxius API key\n",
    "import os\n",
    "import sys\n",
    "from getpass import getpass\n",
    "sys.path.append(\"../\")\n",
    "\n",
    "lynxius_cicd_api_key = getpass(\"🔑 Enter your Lynxius CI/CD API key: \")\n",
    "lynxius_main_api_key = getpass(\"🔑 Enter your Lynxius Main-Baseline API key: \")\n",
    "\n",
    "os.environ[\"LYNXIUS_BASE_URL\"] = \"http://localhost:8000\""
   ]
  },
  {
   "cell_type": "code",
   "execution_count": 2,
   "metadata": {},
   "outputs": [],
   "source": [
    "# `chat_pizza` LLM App used OpenAI GPT-4 to produce these outputs (https://github.com/lynxius/lynxius-docs/blob/main/docs/public/images/)\n",
    "dataset = [\n",
    "    {\n",
    "        \"query\": \"What is the first tomato-topped pizza? Keep it short.\",\n",
    "        \"reference\": \"Pizza marinara is supposedly the oldest tomato-topped pizza.\",\n",
    "        \"output\": \"The first tomato-topped pizza is Pizza marinara.\",\n",
    "    },\n",
    "    {\n",
    "        \"query\": \"When did pizza arrive in the United States? Keep it short.\",\n",
    "        \"reference\": \"The first pizzeria in the U.S. was opened in New York City's Little Italy in 1905.\",\n",
    "        \"output\": \"The first pizzeria in the U.S. was opened in 1905.\",\n",
    "    },\n",
    "    {\n",
    "        \"query\": \"Which tomato sauce is used in neapolitan pizza? Keep it short.\",\n",
    "        \"reference\": \"The tomato sauce of Neapolitan pizza must be made with San Marzano tomatoes or pomodorini del Piennolo del Vesuvio.\",\n",
    "        \"output\": \"San Marzano tomatoes or pomodorini del Piennolo del Vesuvio are traditionally used in Neapolitan pizza sauce.\",\n",
    "    },\n",
    "    {\n",
    "        \"query\": \"What is pizza quattro stagioni? Keep it short.\",\n",
    "        \"reference\": \"Pizza quattro stagioni is a variety of Italian pizza prepared in four sections with diverse ingredients. Each section represents one season of the year. Artichokes represent spring, tomatoes or basil represent summer, mushrooms represent autumn and the ham, prosciutto or olives represent winter.\",\n",
    "        \"output\": \"Pizza Quattro Stagioni is an Italian pizza that represents the four seasons through its toppings, divided into four sections. Each section features ingredients typical of a particular season, like artichokes for spring, peppers for summer, mushrooms for autumn, and olives or prosciutto for winter.\",\n",
    "    },\n",
    "    {\n",
    "        \"query\": \"What is the main pizza ingredient in one word?\",\n",
    "        \"reference\": \"Dough.\",\n",
    "        \"output\": \"Dough.\",\n",
    "    },\n",
    "    {\n",
    "        \"query\": \"What is in Hawaiian pizza?\",\n",
    "        \"reference\": \"Hawaiian pizza contains tomato sauce, pineapple and ham.\",\n",
    "        \"output\": \"Hawaiian pizza: tomato sauce, pineapple and ham.\",\n",
    "    }\n",
    "]"
   ]
  },
  {
   "cell_type": "code",
   "execution_count": 1,
   "metadata": {},
   "outputs": [
    {
     "ename": "ModuleNotFoundError",
     "evalue": "No module named 'lynxius'",
     "output_type": "error",
     "traceback": [
      "\u001b[0;31m---------------------------------------------------------------------------\u001b[0m",
      "\u001b[0;31mModuleNotFoundError\u001b[0m                       Traceback (most recent call last)",
      "Cell \u001b[0;32mIn[1], line 1\u001b[0m\n\u001b[0;32m----> 1\u001b[0m \u001b[38;5;28;01mfrom\u001b[39;00m \u001b[38;5;21;01mlynxius\u001b[39;00m\u001b[38;5;21;01m.\u001b[39;00m\u001b[38;5;21;01mclient\u001b[39;00m \u001b[38;5;28;01mimport\u001b[39;00m LynxiusClient\n\u001b[1;32m      2\u001b[0m \u001b[38;5;28;01mfrom\u001b[39;00m \u001b[38;5;21;01mlynxius\u001b[39;00m\u001b[38;5;21;01m.\u001b[39;00m\u001b[38;5;21;01mevals\u001b[39;00m\u001b[38;5;21;01m.\u001b[39;00m\u001b[38;5;21;01manswer_correctness\u001b[39;00m \u001b[38;5;28;01mimport\u001b[39;00m AnswerCorrectness\n\u001b[1;32m      4\u001b[0m pr_client \u001b[38;5;241m=\u001b[39m LynxiusClient(api_key\u001b[38;5;241m=\u001b[39mlynxius_cicd_api_key)\n",
      "\u001b[0;31mModuleNotFoundError\u001b[0m: No module named 'lynxius'"
     ]
    }
   ],
   "source": [
    "from lynxius.client import LynxiusClient\n",
    "from lynxius.evals.answer_correctness import AnswerCorrectness\n",
    "\n",
    "pr_client = LynxiusClient(api_key=lynxius_cicd_api_key)\n",
    "bsl_client = LynxiusClient(api_key=lynxius_main_api_key)\n",
    "\n",
    "label = \"PR #124\"\n",
    "tags = [\"GPT-4\", \"q_answering\", \"pull_request\"]\n",
    "baseline_project_uuid=\"4d683adf-a17b-4847-bb78-9663152bcba7\"  # identifier of main baseline project\n",
    "baseline_eval_run_label=\"main_branch_baseline\"               # lable identifier of baseline QA task\n",
    "answer_correctness = AnswerCorrectness(\n",
    "    label=label,\n",
    "    tags=tags,\n",
    "    baseline_project_uuid=baseline_project_uuid,\n",
    "    baseline_eval_run_label=baseline_eval_run_label\n",
    ")\n",
    "\n",
    "for entry in dataset:\n",
    "    answer_correctness.add_trace(\n",
    "        query=entry[\"query\"],\n",
    "        reference=entry[\"reference\"],\n",
    "        output=entry[\"output\"],  # chat_pizza LLM call\n",
    "        context=[]\n",
    "    )\n",
    "\n",
    "# run eval\n",
    "answer_correctness_uuid = pr_client.evaluate(answer_correctness)\n",
    "\n",
    "# get eval results and compare    \n",
    "pr_eval_run = pr_client.get_eval_run(answer_correctness_uuid)\n",
    "pr_score = pr_eval_run.get(\"aggregate_score\")\n",
    "bsl_score = bsl_client.get_eval_run(\n",
    "    pr_eval_run.get(\"baseline_eval_run_uuid\")\n",
    ").get(\"aggregate_score\")\n",
    "\n",
    "if pr_score > bsl_score:\n",
    "    print(f\"PR score {pr_score} is greater than baseline score {bsl_score}.\")\n",
    "else:\n",
    "    print(f\"PR score {pr_score} is not greater than baseline score {bsl_score}.\")"
   ]
  }
 ],
 "metadata": {
  "kernelspec": {
   "display_name": ".lynxius-python",
   "language": "python",
   "name": "python3"
  },
  "language_info": {
   "codemirror_mode": {
    "name": "ipython",
    "version": 3
   },
   "file_extension": ".py",
   "mimetype": "text/x-python",
   "name": "python",
   "nbconvert_exporter": "python",
   "pygments_lexer": "ipython3",
   "version": "3.12.4"
  }
 },
 "nbformat": 4,
 "nbformat_minor": 2
}
